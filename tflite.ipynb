{
  "nbformat": 4,
  "nbformat_minor": 0,
  "metadata": {
    "colab": {
      "provenance": []
    },
    "kernelspec": {
      "name": "python3",
      "display_name": "Python 3"
    },
    "language_info": {
      "name": "python"
    }
  },
  "cells": [
    {
      "cell_type": "code",
      "source": [
        "from google.colab import drive\n",
        "drive.mount('/content/drive')"
      ],
      "metadata": {
        "colab": {
          "base_uri": "https://localhost:8080/"
        },
        "id": "mABJs2DwAARA",
        "outputId": "6e62236b-0b9a-4d80-f114-353fa3e6d112"
      },
      "execution_count": null,
      "outputs": [
        {
          "output_type": "stream",
          "name": "stdout",
          "text": [
            "Mounted at /content/drive\n"
          ]
        }
      ]
    },
    {
      "cell_type": "code",
      "source": [
        "!pip install tflite-support"
      ],
      "metadata": {
        "colab": {
          "base_uri": "https://localhost:8080/"
        },
        "id": "b497d1s8Z5Bl",
        "outputId": "45312be3-a390-4688-be3f-a6667453cf2c"
      },
      "execution_count": null,
      "outputs": [
        {
          "output_type": "stream",
          "name": "stdout",
          "text": [
            "Collecting tflite-support\n",
            "  Downloading tflite-support-0.1.0a1.tar.gz (390 kB)\n",
            "\u001b[?25l     \u001b[90m━━━━━━━━━━━━━━━━━━━━━━━━━━━━━━━━━━━━━━━━\u001b[0m \u001b[32m0.0/390.3 kB\u001b[0m \u001b[31m?\u001b[0m eta \u001b[36m-:--:--\u001b[0m\r\u001b[2K     \u001b[91m━━━━━━━━━━━━━━━━━━━━━━━━━━━━━━━━━━━━━\u001b[0m\u001b[91m╸\u001b[0m \u001b[32m389.1/390.3 kB\u001b[0m \u001b[31m14.8 MB/s\u001b[0m eta \u001b[36m0:00:01\u001b[0m\r\u001b[2K     \u001b[90m━━━━━━━━━━━━━━━━━━━━━━━━━━━━━━━━━━━━━━\u001b[0m \u001b[32m390.3/390.3 kB\u001b[0m \u001b[31m10.4 MB/s\u001b[0m eta \u001b[36m0:00:00\u001b[0m\n",
            "\u001b[?25h  Preparing metadata (setup.py) ... \u001b[?25l\u001b[?25hdone\n",
            "Collecting pybind11>=2.4 (from tflite-support)\n",
            "  Using cached pybind11-2.10.4-py3-none-any.whl (222 kB)\n",
            "Requirement already satisfied: absl-py>=0.7.0 in /usr/local/lib/python3.10/dist-packages (from tflite-support) (1.4.0)\n",
            "Requirement already satisfied: numpy in /usr/local/lib/python3.10/dist-packages (from tflite-support) (1.22.4)\n",
            "Building wheels for collected packages: tflite-support\n",
            "  Building wheel for tflite-support (setup.py) ... \u001b[?25l\u001b[?25hdone\n",
            "  Created wheel for tflite-support: filename=tflite_support-0.1.0a1-cp310-cp310-linux_x86_64.whl size=5942516 sha256=f379433162fb87457a10f5de3db3584278d997b4384b832c2a3d4bbb72aab3c6\n",
            "  Stored in directory: /root/.cache/pip/wheels/71/5c/da/9e5e661ec26e03ee57e69428d40fffbefe3c0aff649c55776d\n",
            "Successfully built tflite-support\n",
            "Installing collected packages: pybind11, tflite-support\n",
            "Successfully installed pybind11-2.10.4 tflite-support-0.1.0a1\n"
          ]
        }
      ]
    },
    {
      "cell_type": "code",
      "execution_count": null,
      "metadata": {
        "colab": {
          "base_uri": "https://localhost:8080/"
        },
        "id": "akOLPJs3_sVB",
        "outputId": "3ae2018f-b043-4e8d-d9b9-8ee8f7441d29"
      },
      "outputs": [
        {
          "output_type": "stream",
          "name": "stdout",
          "text": [
            "Reading package lists... Done\n",
            "Building dependency tree       \n",
            "Reading state information... Done\n",
            "libportaudio2 is already the newest version (19.6.0-1build1).\n",
            "0 upgraded, 0 newly installed, 0 to remove and 15 not upgraded.\n",
            "Collecting tflite-model-maker\n",
            "  Using cached tflite_model_maker-0.4.2-py3-none-any.whl (577 kB)\n",
            "Collecting tf-models-official==2.3.0 (from tflite-model-maker)\n",
            "  Using cached tf_models_official-2.3.0-py2.py3-none-any.whl (840 kB)\n",
            "Requirement already satisfied: numpy>=1.17.3 in /usr/local/lib/python3.10/dist-packages (from tflite-model-maker) (1.22.4)\n",
            "Requirement already satisfied: pillow>=7.0.0 in /usr/local/lib/python3.10/dist-packages (from tflite-model-maker) (8.4.0)\n",
            "Collecting sentencepiece>=0.1.91 (from tflite-model-maker)\n",
            "  Using cached sentencepiece-0.1.99-cp310-cp310-manylinux_2_17_x86_64.manylinux2014_x86_64.whl (1.3 MB)\n",
            "Requirement already satisfied: tensorflow-datasets>=2.1.0 in /usr/local/lib/python3.10/dist-packages (from tflite-model-maker) (4.9.2)\n",
            "Collecting fire>=0.3.1 (from tflite-model-maker)\n",
            "  Using cached fire-0.5.0.tar.gz (88 kB)\n",
            "  Preparing metadata (setup.py) ... \u001b[?25l\u001b[?25hdone\n",
            "Requirement already satisfied: flatbuffers>=2.0 in /usr/local/lib/python3.10/dist-packages (from tflite-model-maker) (23.5.26)\n",
            "Requirement already satisfied: absl-py>=0.10.0 in /usr/local/lib/python3.10/dist-packages (from tflite-model-maker) (1.4.0)\n",
            "Collecting urllib3!=1.25.0,!=1.25.1,<1.26,>=1.21.1 (from tflite-model-maker)\n",
            "  Using cached urllib3-1.25.11-py2.py3-none-any.whl (127 kB)\n",
            "INFO: pip is looking at multiple versions of tflite-model-maker to determine which version is compatible with other requirements. This could take a while.\n",
            "Collecting tflite-model-maker\n",
            "  Using cached tflite_model_maker-0.4.1-py3-none-any.whl (642 kB)\n",
            "Collecting flatbuffers==1.12 (from tflite-model-maker)\n",
            "  Using cached flatbuffers-1.12-py2.py3-none-any.whl (15 kB)\n",
            "Collecting tflite-support-nightly (from tflite-model-maker)\n",
            "  Using cached tflite_support_nightly-0.4.4.dev20230704-cp310-cp310-manylinux2014_x86_64.whl (60.8 MB)\n",
            "Collecting tensorflowjs>=2.4.0 (from tflite-model-maker)\n",
            "  Using cached tensorflowjs-4.8.0-py3-none-any.whl (85 kB)\n",
            "Requirement already satisfied: tensorflow>=2.6.0 in /usr/local/lib/python3.10/dist-packages (from tflite-model-maker) (2.12.0)\n",
            "Collecting tflite-model-maker\n",
            "  Using cached tflite_model_maker-0.4.0-py3-none-any.whl (642 kB)\n",
            "  Using cached tflite_model_maker-0.3.4-py3-none-any.whl (616 kB)\n",
            "  Using cached tflite_model_maker-0.3.3-py3-none-any.whl (616 kB)\n",
            "  Using cached tflite_model_maker-0.3.2-py3-none-any.whl (591 kB)\n",
            "Collecting tensorflow-hub<0.10>=0.8.0 (from tflite-model-maker)\n",
            "  Using cached tensorflow_hub-0.9.0-py2.py3-none-any.whl (103 kB)\n",
            "Collecting tflite-model-maker\n",
            "  Using cached tflite_model_maker-0.3.1-py3-none-any.whl (590 kB)\n",
            "  Using cached tflite_model_maker-0.3.0-py3-none-any.whl (567 kB)\n",
            "Collecting absl-py<0.11>=0.10.0 (from tflite-model-maker)\n",
            "  Using cached absl_py-0.10.0-py3-none-any.whl (127 kB)\n",
            "INFO: pip is looking at multiple versions of tflite-model-maker to determine which version is compatible with other requirements. This could take a while.\n",
            "Collecting tflite-model-maker\n",
            "  Using cached tflite_model_maker-0.2.5-py3-none-any.whl (499 kB)\n",
            "  Using cached tflite_model_maker-0.2.4-py3-none-any.whl (190 kB)\n",
            "Requirement already satisfied: tensorflow-hub>=0.8.0 in /usr/local/lib/python3.10/dist-packages (from tflite-model-maker) (0.13.0)\n",
            "  Using cached tflite_model_maker-0.2.3-py3-none-any.whl (114 kB)\n",
            "  Using cached tflite_model_maker-0.2.2-py3-none-any.whl (103 kB)\n",
            "  Using cached tflite_model_maker-0.2.1-py3-none-any.whl (102 kB)\n",
            "INFO: This is taking longer than usual. You might need to provide the dependency resolver with stricter constraints to reduce runtime. See https://pip.pypa.io/warnings/backtracking for guidance. If you want to abort this run, press Ctrl + C.\n",
            "  Using cached tflite_model_maker-0.2.0-py3-none-any.whl (102 kB)\n",
            "Collecting tf-models-official (from tflite-model-maker)\n",
            "  Downloading tf_models_official-2.13.0-py2.py3-none-any.whl (2.6 MB)\n",
            "\u001b[2K     \u001b[90m━━━━━━━━━━━━━━━━━━━━━━━━━━━━━━━━━━━━━━━━\u001b[0m \u001b[32m2.6/2.6 MB\u001b[0m \u001b[31m11.5 MB/s\u001b[0m eta \u001b[36m0:00:00\u001b[0m\n",
            "\u001b[?25hCollecting tflite-model-maker\n",
            "  Using cached tflite_model_maker-0.1.2-py3-none-any.whl (104 kB)\n",
            "Collecting tf-nightly (from tflite-model-maker)\n",
            "  Using cached tf_nightly-2.14.0.dev20230705-cp310-cp310-manylinux_2_17_x86_64.manylinux2014_x86_64.whl (491.0 MB)\n",
            "Collecting tf-models-nightly (from tflite-model-maker)\n",
            "  Using cached tf_models_nightly-2.12.0.dev20230601-py2.py3-none-any.whl (2.6 MB)\n",
            "Collecting tflite-model-maker\n",
            "  Using cached tflite_model_maker-0.1.1-py3-none-any.whl (86 kB)\n",
            "Collecting tflite-support==0.1.0a0 (from tflite-model-maker)\n",
            "  Using cached tflite-support-0.1.0a0.tar.gz (258 kB)\n",
            "  Preparing metadata (setup.py) ... \u001b[?25l\u001b[?25hdone\n",
            "Requirement already satisfied: pybind11>=2.4 in /usr/local/lib/python3.10/dist-packages (from tflite-support==0.1.0a0->tflite-model-maker) (2.10.4)\n",
            "Requirement already satisfied: array-record in /usr/local/lib/python3.10/dist-packages (from tensorflow-datasets>=2.1.0->tflite-model-maker) (0.4.0)\n",
            "Requirement already satisfied: click in /usr/local/lib/python3.10/dist-packages (from tensorflow-datasets>=2.1.0->tflite-model-maker) (8.1.3)\n",
            "Requirement already satisfied: dm-tree in /usr/local/lib/python3.10/dist-packages (from tensorflow-datasets>=2.1.0->tflite-model-maker) (0.1.8)\n",
            "Requirement already satisfied: etils[enp,epath]>=0.9.0 in /usr/local/lib/python3.10/dist-packages (from tensorflow-datasets>=2.1.0->tflite-model-maker) (1.3.0)\n",
            "Requirement already satisfied: promise in /usr/local/lib/python3.10/dist-packages (from tensorflow-datasets>=2.1.0->tflite-model-maker) (2.3)\n",
            "Requirement already satisfied: protobuf>=3.20 in /usr/local/lib/python3.10/dist-packages (from tensorflow-datasets>=2.1.0->tflite-model-maker) (3.20.3)\n",
            "Requirement already satisfied: psutil in /usr/local/lib/python3.10/dist-packages (from tensorflow-datasets>=2.1.0->tflite-model-maker) (5.9.5)\n",
            "Requirement already satisfied: requests>=2.19.0 in /usr/local/lib/python3.10/dist-packages (from tensorflow-datasets>=2.1.0->tflite-model-maker) (2.27.1)\n",
            "Requirement already satisfied: tensorflow-metadata in /usr/local/lib/python3.10/dist-packages (from tensorflow-datasets>=2.1.0->tflite-model-maker) (1.13.1)\n",
            "Requirement already satisfied: termcolor in /usr/local/lib/python3.10/dist-packages (from tensorflow-datasets>=2.1.0->tflite-model-maker) (2.3.0)\n",
            "Requirement already satisfied: toml in /usr/local/lib/python3.10/dist-packages (from tensorflow-datasets>=2.1.0->tflite-model-maker) (0.10.2)\n",
            "Requirement already satisfied: tqdm in /usr/local/lib/python3.10/dist-packages (from tensorflow-datasets>=2.1.0->tflite-model-maker) (4.65.0)\n",
            "Requirement already satisfied: wrapt in /usr/local/lib/python3.10/dist-packages (from tensorflow-datasets>=2.1.0->tflite-model-maker) (1.14.1)\n",
            "Requirement already satisfied: six in /usr/local/lib/python3.10/dist-packages (from fire>=0.3.1->tflite-model-maker) (1.16.0)\n",
            "Requirement already satisfied: Cython in /usr/local/lib/python3.10/dist-packages (from tf-models-nightly->tflite-model-maker) (0.29.35)\n",
            "Requirement already satisfied: gin-config in /usr/local/lib/python3.10/dist-packages (from tf-models-nightly->tflite-model-maker) (0.5.0)\n",
            "Requirement already satisfied: google-api-python-client>=1.6.7 in /usr/local/lib/python3.10/dist-packages (from tf-models-nightly->tflite-model-maker) (2.84.0)\n",
            "Collecting immutabledict (from tf-models-nightly->tflite-model-maker)\n",
            "  Using cached immutabledict-2.2.5-py3-none-any.whl (4.1 kB)\n",
            "Requirement already satisfied: kaggle>=1.3.9 in /usr/local/lib/python3.10/dist-packages (from tf-models-nightly->tflite-model-maker) (1.5.13)\n",
            "Requirement already satisfied: matplotlib in /usr/local/lib/python3.10/dist-packages (from tf-models-nightly->tflite-model-maker) (3.7.1)\n",
            "Requirement already satisfied: oauth2client in /usr/local/lib/python3.10/dist-packages (from tf-models-nightly->tflite-model-maker) (4.1.3)\n",
            "Requirement already satisfied: opencv-python-headless in /usr/local/lib/python3.10/dist-packages (from tf-models-nightly->tflite-model-maker) (4.7.0.72)\n",
            "Requirement already satisfied: pandas>=0.22.0 in /usr/local/lib/python3.10/dist-packages (from tf-models-nightly->tflite-model-maker) (1.5.3)\n",
            "Requirement already satisfied: py-cpuinfo>=3.3.0 in /usr/local/lib/python3.10/dist-packages (from tf-models-nightly->tflite-model-maker) (9.0.0)\n",
            "Requirement already satisfied: pycocotools in /usr/local/lib/python3.10/dist-packages (from tf-models-nightly->tflite-model-maker) (2.0.6)\n",
            "Collecting pyyaml<6.0,>=5.1 (from tf-models-nightly->tflite-model-maker)\n",
            "  Using cached PyYAML-5.4.1.tar.gz (175 kB)\n",
            "  Installing build dependencies ... \u001b[?25l\u001b[?25hdone\n",
            "  Getting requirements to build wheel ... \u001b[?25l\u001b[?25hdone\n",
            "  Preparing metadata (pyproject.toml) ... \u001b[?25l\u001b[?25hdone\n",
            "Collecting sacrebleu (from tf-models-nightly->tflite-model-maker)\n",
            "  Using cached sacrebleu-2.3.1-py3-none-any.whl (118 kB)\n",
            "Requirement already satisfied: scipy>=0.19.1 in /usr/local/lib/python3.10/dist-packages (from tf-models-nightly->tflite-model-maker) (1.10.1)\n",
            "Collecting seqeval (from tf-models-nightly->tflite-model-maker)\n",
            "  Using cached seqeval-1.2.2.tar.gz (43 kB)\n",
            "  Preparing metadata (setup.py) ... \u001b[?25l\u001b[?25hdone\n",
            "Collecting tensorflow-model-optimization>=0.4.1 (from tf-models-nightly->tflite-model-maker)\n",
            "  Using cached tensorflow_model_optimization-0.7.5-py2.py3-none-any.whl (241 kB)\n",
            "Collecting tensorflow-text-nightly (from tf-models-nightly->tflite-model-maker)\n",
            "  Using cached tensorflow_text_nightly-2.14.0.dev20230705-cp310-cp310-manylinux_2_17_x86_64.manylinux2014_x86_64.whl (6.5 MB)\n",
            "Requirement already satisfied: tf-slim>=1.1.0 in /usr/local/lib/python3.10/dist-packages (from tf-models-nightly->tflite-model-maker) (1.1.0)\n",
            "Requirement already satisfied: astunparse>=1.6.0 in /usr/local/lib/python3.10/dist-packages (from tf-nightly->tflite-model-maker) (1.6.3)\n",
            "INFO: pip is looking at multiple versions of tf-nightly to determine which version is compatible with other requirements. This could take a while.\n",
            "Collecting tf-nightly (from tflite-model-maker)\n",
            "  Using cached tf_nightly-2.14.0.dev20230704-cp310-cp310-manylinux_2_17_x86_64.manylinux2014_x86_64.whl (491.1 MB)\n",
            "  Using cached tf_nightly-2.14.0.dev20230703-cp310-cp310-manylinux_2_17_x86_64.manylinux2014_x86_64.whl (491.0 MB)\n",
            "  Using cached tf_nightly-2.14.0.dev20230702-cp310-cp310-manylinux_2_17_x86_64.manylinux2014_x86_64.whl (491.0 MB)\n",
            "  Using cached tf_nightly-2.14.0.dev20230701-cp310-cp310-manylinux_2_17_x86_64.manylinux2014_x86_64.whl (491.0 MB)\n",
            "  Using cached tf_nightly-2.14.0.dev20230630-cp310-cp310-manylinux_2_17_x86_64.manylinux2014_x86_64.whl (490.9 MB)\n",
            "  Using cached tf_nightly-2.14.0.dev20230629-cp310-cp310-manylinux_2_17_x86_64.manylinux2014_x86_64.whl (490.8 MB)\n",
            "  Using cached tf_nightly-2.14.0.dev20230628-cp310-cp310-manylinux_2_17_x86_64.manylinux2014_x86_64.whl (490.6 MB)\n",
            "INFO: pip is looking at multiple versions of tf-nightly to determine which version is compatible with other requirements. This could take a while.\n",
            "  Using cached tf_nightly-2.14.0.dev20230627-cp310-cp310-manylinux_2_17_x86_64.manylinux2014_x86_64.whl (491.8 MB)\n",
            "  Using cached tf_nightly-2.14.0.dev20230626-cp310-cp310-manylinux_2_17_x86_64.manylinux2014_x86_64.whl (491.7 MB)\n",
            "  Using cached tf_nightly-2.14.0.dev20230624-cp310-cp310-manylinux_2_17_x86_64.manylinux2014_x86_64.whl (491.7 MB)\n",
            "  Using cached tf_nightly-2.14.0.dev20230623-cp310-cp310-manylinux_2_17_x86_64.manylinux2014_x86_64.whl (491.5 MB)\n",
            "  Using cached tf_nightly-2.14.0.dev20230622-cp310-cp310-manylinux_2_17_x86_64.manylinux2014_x86_64.whl (491.5 MB)\n",
            "INFO: This is taking longer than usual. You might need to provide the dependency resolver with stricter constraints to reduce runtime. See https://pip.pypa.io/warnings/backtracking for guidance. If you want to abort this run, press Ctrl + C.\n",
            "  Using cached tf_nightly-2.14.0.dev20230621-cp310-cp310-manylinux_2_17_x86_64.manylinux2014_x86_64.whl (491.4 MB)\n",
            "  Using cached tf_nightly-2.14.0.dev20230620-cp310-cp310-manylinux_2_17_x86_64.manylinux2014_x86_64.whl (491.4 MB)\n",
            "  Using cached tf_nightly-2.14.0.dev20230619-cp310-cp310-manylinux_2_17_x86_64.manylinux2014_x86_64.whl (491.2 MB)\n",
            "  Using cached tf_nightly-2.14.0.dev20230618-cp310-cp310-manylinux_2_17_x86_64.manylinux2014_x86_64.whl (491.2 MB)\n",
            "  Using cached tf_nightly-2.14.0.dev20230617-cp310-cp310-manylinux_2_17_x86_64.manylinux2014_x86_64.whl (491.2 MB)\n",
            "  Using cached tf_nightly-2.14.0.dev20230616-cp310-cp310-manylinux_2_17_x86_64.manylinux2014_x86_64.whl (491.2 MB)\n",
            "  Using cached tf_nightly-2.14.0.dev20230615-cp310-cp310-manylinux_2_17_x86_64.manylinux2014_x86_64.whl (491.2 MB)\n",
            "  Using cached tf_nightly-2.14.0.dev20230614-cp310-cp310-manylinux_2_17_x86_64.manylinux2014_x86_64.whl (491.2 MB)\n",
            "  Using cached tf_nightly-2.14.0.dev20230613-cp310-cp310-manylinux_2_17_x86_64.manylinux2014_x86_64.whl (491.0 MB)\n",
            "  Using cached tf_nightly-2.14.0.dev20230612-cp310-cp310-manylinux_2_17_x86_64.manylinux2014_x86_64.whl (490.8 MB)\n",
            "  Using cached tf_nightly-2.14.0.dev20230611-cp310-cp310-manylinux_2_17_x86_64.manylinux2014_x86_64.whl (490.8 MB)\n",
            "  Using cached tf_nightly-2.14.0.dev20230610-cp310-cp310-manylinux_2_17_x86_64.manylinux2014_x86_64.whl (490.8 MB)\n",
            "  Using cached tf_nightly-2.14.0.dev20230609-cp310-cp310-manylinux_2_17_x86_64.manylinux2014_x86_64.whl (489.7 MB)\n",
            "  Using cached tf_nightly-2.14.0.dev20230608-cp310-cp310-manylinux_2_17_x86_64.manylinux2014_x86_64.whl (489.6 MB)\n",
            "  Using cached tf_nightly-2.14.0.dev20230607-cp310-cp310-manylinux_2_17_x86_64.manylinux2014_x86_64.whl (489.5 MB)\n",
            "  Using cached tf_nightly-2.14.0.dev20230606-cp310-cp310-manylinux_2_17_x86_64.manylinux2014_x86_64.whl (489.0 MB)\n",
            "  Using cached tf_nightly-2.14.0.dev20230605-cp310-cp310-manylinux_2_17_x86_64.manylinux2014_x86_64.whl (488.9 MB)\n",
            "  Using cached tf_nightly-2.14.0.dev20230604-cp310-cp310-manylinux_2_17_x86_64.manylinux2014_x86_64.whl (488.9 MB)\n",
            "  Using cached tf_nightly-2.14.0.dev20230603-cp310-cp310-manylinux_2_17_x86_64.manylinux2014_x86_64.whl (488.9 MB)\n",
            "  Using cached tf_nightly-2.14.0.dev20230602-cp310-cp310-manylinux_2_17_x86_64.manylinux2014_x86_64.whl (488.9 MB)\n",
            "  Using cached tf_nightly-2.14.0.dev20230601-cp310-cp310-manylinux_2_17_x86_64.manylinux2014_x86_64.whl (488.6 MB)\n",
            "  Using cached tf_nightly-2.14.0.dev20230531-cp310-cp310-manylinux_2_17_x86_64.manylinux2014_x86_64.whl (488.6 MB)\n",
            "  Using cached tf_nightly-2.14.0.dev20230530-cp310-cp310-manylinux_2_17_x86_64.manylinux2014_x86_64.whl (488.2 MB)\n",
            "  Using cached tf_nightly-2.14.0.dev20230529-cp310-cp310-manylinux_2_17_x86_64.manylinux2014_x86_64.whl (488.2 MB)\n",
            "  Using cached tf_nightly-2.14.0.dev20230528-cp310-cp310-manylinux_2_17_x86_64.manylinux2014_x86_64.whl (488.2 MB)\n",
            "  Using cached tf_nightly-2.14.0.dev20230527-cp310-cp310-manylinux_2_17_x86_64.manylinux2014_x86_64.whl (488.2 MB)\n",
            "  Using cached tf_nightly-2.14.0.dev20230526-cp310-cp310-manylinux_2_17_x86_64.manylinux2014_x86_64.whl (488.2 MB)\n",
            "  Using cached tf_nightly-2.14.0.dev20230525-cp310-cp310-manylinux_2_17_x86_64.manylinux2014_x86_64.whl (488.0 MB)\n",
            "  Using cached tf_nightly-2.14.0.dev20230524-cp310-cp310-manylinux_2_17_x86_64.manylinux2014_x86_64.whl (488.0 MB)\n",
            "  Using cached tf_nightly-2.14.0.dev20230523-cp310-cp310-manylinux_2_17_x86_64.manylinux2014_x86_64.whl (484.0 MB)\n",
            "  Using cached tf_nightly-2.14.0.dev20230520-cp310-cp310-manylinux_2_17_x86_64.manylinux2014_x86_64.whl (483.9 MB)\n",
            "  Using cached tf_nightly-2.14.0.dev20230519-cp310-cp310-manylinux_2_17_x86_64.manylinux2014_x86_64.whl (529.1 MB)\n",
            "  Using cached tf_nightly-2.14.0.dev20230518-cp310-cp310-manylinux_2_17_x86_64.manylinux2014_x86_64.whl (529.0 MB)\n",
            "  Using cached tf_nightly-2.14.0.dev20230517-cp310-cp310-manylinux_2_17_x86_64.manylinux2014_x86_64.whl (528.8 MB)\n",
            "  Using cached tf_nightly-2.14.0.dev20230516-cp310-cp310-manylinux_2_17_x86_64.manylinux2014_x86_64.whl (528.7 MB)\n",
            "  Using cached tf_nightly-2.14.0.dev20230515-cp310-cp310-manylinux_2_17_x86_64.manylinux2014_x86_64.whl (528.7 MB)\n",
            "  Using cached tf_nightly-2.14.0.dev20230514-cp310-cp310-manylinux_2_17_x86_64.manylinux2014_x86_64.whl (528.7 MB)\n",
            "  Using cached tf_nightly-2.14.0.dev20230513-cp310-cp310-manylinux_2_17_x86_64.manylinux2014_x86_64.whl (528.6 MB)\n",
            "  Using cached tf_nightly-2.14.0.dev20230512-cp310-cp310-manylinux_2_17_x86_64.manylinux2014_x86_64.whl (528.4 MB)\n",
            "  Using cached tf_nightly-2.14.0.dev20230511-cp310-cp310-manylinux_2_17_x86_64.manylinux2014_x86_64.whl (528.1 MB)\n",
            "  Using cached tf_nightly-2.14.0.dev20230510-cp310-cp310-manylinux_2_17_x86_64.manylinux2014_x86_64.whl (527.9 MB)\n",
            "  Using cached tf_nightly-2.14.0.dev20230509-cp310-cp310-manylinux_2_17_x86_64.manylinux2014_x86_64.whl (527.7 MB)\n",
            "  Using cached tf_nightly-2.14.0.dev20230508-cp310-cp310-manylinux_2_17_x86_64.manylinux2014_x86_64.whl (527.3 MB)\n",
            "  Using cached tf_nightly-2.14.0.dev20230507-cp310-cp310-manylinux_2_17_x86_64.manylinux2014_x86_64.whl (527.3 MB)\n",
            "  Using cached tf_nightly-2.14.0.dev20230506-cp310-cp310-manylinux_2_17_x86_64.manylinux2014_x86_64.whl (527.3 MB)\n",
            "  Using cached tf_nightly-2.14.0.dev20230505-cp310-cp310-manylinux_2_17_x86_64.manylinux2014_x86_64.whl (527.1 MB)\n",
            "  Using cached tf_nightly-2.14.0.dev20230504-cp310-cp310-manylinux_2_17_x86_64.manylinux2014_x86_64.whl (526.0 MB)\n",
            "  Using cached tf_nightly-2.14.0.dev20230503-cp310-cp310-manylinux_2_17_x86_64.manylinux2014_x86_64.whl (524.2 MB)\n",
            "  Using cached tf_nightly-2.14.0.dev20230502-cp310-cp310-manylinux_2_17_x86_64.manylinux2014_x86_64.whl (524.2 MB)\n",
            "  Using cached tf_nightly-2.13.0.dev20230501-cp310-cp310-manylinux_2_17_x86_64.manylinux2014_x86_64.whl (524.1 MB)\n",
            "  Using cached tf_nightly-2.13.0.dev20230430-cp310-cp310-manylinux_2_17_x86_64.manylinux2014_x86_64.whl (524.1 MB)\n",
            "  Downloading tf_nightly-2.13.0.dev20230429-cp310-cp310-manylinux_2_17_x86_64.manylinux2014_x86_64.whl (524.1 MB)\n",
            "\u001b[2K     \u001b[90m━━━━━━━━━━━━━━━━━━━━━━━━━━━━━━━━━━━━━━━\u001b[0m \u001b[32m524.1/524.1 MB\u001b[0m \u001b[31m2.3 MB/s\u001b[0m eta \u001b[36m0:00:00\u001b[0m\n",
            "\u001b[?25h  Downloading tf_nightly-2.13.0.dev20230428-cp310-cp310-manylinux_2_17_x86_64.manylinux2014_x86_64.whl (524.1 MB)\n",
            "\u001b[2K     \u001b[90m━━━━━━━━━━━━━━━━━━━━━━━━━━━━━━━━━━━━━━━\u001b[0m \u001b[32m524.1/524.1 MB\u001b[0m \u001b[31m2.2 MB/s\u001b[0m eta \u001b[36m0:00:00\u001b[0m\n",
            "\u001b[?25h  Downloading tf_nightly-2.13.0.dev20230427-cp310-cp310-manylinux_2_17_x86_64.manylinux2014_x86_64.whl (524.0 MB)\n",
            "\u001b[2K     \u001b[90m━━━━━━━━━━━━━━━━━━━━━━━━━━━━━━━━━━━━━━━\u001b[0m \u001b[32m524.0/524.0 MB\u001b[0m \u001b[31m2.4 MB/s\u001b[0m eta \u001b[36m0:00:00\u001b[0m\n",
            "\u001b[?25h  Downloading tf_nightly-2.13.0.dev20230426-cp310-cp310-manylinux_2_17_x86_64.manylinux2014_x86_64.whl (524.6 MB)\n",
            "\u001b[2K     \u001b[90m━━━━━━━━━━━━━━━━━━━━━━━━━━━━━━━━━━━━━━━\u001b[0m \u001b[32m524.6/524.6 MB\u001b[0m \u001b[31m1.6 MB/s\u001b[0m eta \u001b[36m0:00:00\u001b[0m\n",
            "\u001b[?25h  Downloading tf_nightly-2.13.0.dev20230425-cp310-cp310-manylinux_2_17_x86_64.manylinux2014_x86_64.whl (524.7 MB)\n",
            "\u001b[2K     \u001b[91m━━━━━━━━━━━━━━━━━━━━━\u001b[0m\u001b[90m╺\u001b[0m\u001b[90m━━━━━━━━━━━━━━━━\u001b[0m \u001b[32m293.6/524.7 MB\u001b[0m \u001b[31m11.0 MB/s\u001b[0m eta \u001b[36m0:00:21\u001b[0m\n",
            "\u001b[?25h\u001b[31mERROR: Operation cancelled by user\u001b[0m\u001b[31m\n",
            "\u001b[0m^C\n"
          ]
        }
      ],
      "source": [
        "!sudo apt -y install libportaudio2\n",
        "!pip install tflite-model-maker"
      ]
    },
    {
      "cell_type": "code",
      "source": [
        "!git clone https://github.com/tensorflow/examples\n",
        "%cd examples/tensorflow_examples/lite/model_maker/pip_package\n",
        "!pip install -e ."
      ],
      "metadata": {
        "colab": {
          "base_uri": "https://localhost:8080/"
        },
        "id": "FhRjtCznPIh7",
        "outputId": "ad72f874-c456-4ffb-8c48-695bdd494332"
      },
      "execution_count": null,
      "outputs": [
        {
          "output_type": "stream",
          "name": "stdout",
          "text": [
            "Cloning into 'examples'...\n",
            "remote: Enumerating objects: 23470, done.\u001b[K\n",
            "remote: Counting objects: 100% (430/430), done.\u001b[K\n",
            "remote: Compressing objects: 100% (276/276), done.\u001b[K\n",
            "remote: Total 23470 (delta 124), reused 371 (delta 86), pack-reused 23040\u001b[K\n",
            "Receiving objects: 100% (23470/23470), 43.95 MiB | 27.96 MiB/s, done.\n",
            "Resolving deltas: 100% (12774/12774), done.\n",
            "/content/examples/tensorflow_examples/lite/model_maker/pip_package\n",
            "Obtaining file:///content/examples/tensorflow_examples/lite/model_maker/pip_package\n",
            "  Preparing metadata (setup.py) ... \u001b[?25l\u001b[?25hdone\n",
            "Collecting tf-models-official==2.3.0 (from tflite-model-maker==0.4.2)\n",
            "  Using cached tf_models_official-2.3.0-py2.py3-none-any.whl (840 kB)\n",
            "Requirement already satisfied: numpy>=1.17.3 in /usr/local/lib/python3.10/dist-packages (from tflite-model-maker==0.4.2) (1.22.4)\n",
            "Requirement already satisfied: pillow>=7.0.0 in /usr/local/lib/python3.10/dist-packages (from tflite-model-maker==0.4.2) (8.4.0)\n",
            "Collecting sentencepiece>=0.1.91 (from tflite-model-maker==0.4.2)\n",
            "  Using cached sentencepiece-0.1.99-cp310-cp310-manylinux_2_17_x86_64.manylinux2014_x86_64.whl (1.3 MB)\n",
            "Requirement already satisfied: tensorflow-datasets>=2.1.0 in /usr/local/lib/python3.10/dist-packages (from tflite-model-maker==0.4.2) (4.9.2)\n",
            "Collecting fire>=0.3.1 (from tflite-model-maker==0.4.2)\n",
            "  Using cached fire-0.5.0.tar.gz (88 kB)\n",
            "  Preparing metadata (setup.py) ... \u001b[?25l\u001b[?25hdone\n",
            "Requirement already satisfied: flatbuffers>=2.0 in /usr/local/lib/python3.10/dist-packages (from tflite-model-maker==0.4.2) (23.5.26)\n",
            "Requirement already satisfied: absl-py>=0.10.0 in /usr/local/lib/python3.10/dist-packages (from tflite-model-maker==0.4.2) (1.4.0)\n",
            "Collecting urllib3!=1.25.0,!=1.25.1,<1.26,>=1.21.1 (from tflite-model-maker==0.4.2)\n",
            "  Using cached urllib3-1.25.11-py2.py3-none-any.whl (127 kB)\n",
            "INFO: pip is looking at multiple versions of tflite-model-maker to determine which version is compatible with other requirements. This could take a while.\n",
            "\u001b[31mERROR: Could not find a version that satisfies the requirement tflite-support>=0.4.2 (from tflite-model-maker) (from versions: 0.1.0a0.dev3, 0.1.0a0.dev4, 0.1.0a0.dev5, 0.1.0a0, 0.1.0a1)\u001b[0m\u001b[31m\n",
            "\u001b[0m\u001b[31mERROR: No matching distribution found for tflite-support>=0.4.2\u001b[0m\u001b[31m\n",
            "\u001b[0m"
          ]
        }
      ]
    },
    {
      "cell_type": "code",
      "source": [
        "import os\n",
        "\n",
        "import numpy as np\n",
        "\n",
        "import tensorflow as tf\n",
        "assert tf.__version__.startswith('2')\n",
        "\n",
        "from tflite_model_maker import model_spec\n",
        "from tflite_model_maker import image_classifier\n",
        "from tflite_model_maker.config import ExportFormat\n",
        "from tflite_model_maker.config import QuantizationConfig\n",
        "from tflite_model_maker.image_classifier import DataLoader\n",
        "\n",
        "import matplotlib.pyplot as plt\n"
      ],
      "metadata": {
        "colab": {
          "base_uri": "https://localhost:8080/",
          "height": 444
        },
        "id": "xZwZq-Vc_-0_",
        "outputId": "5262508f-ed1b-4198-d3cc-5f31ef81ba27"
      },
      "execution_count": null,
      "outputs": [
        {
          "output_type": "error",
          "ename": "ModuleNotFoundError",
          "evalue": "ignored",
          "traceback": [
            "\u001b[0;31m---------------------------------------------------------------------------\u001b[0m",
            "\u001b[0;31mModuleNotFoundError\u001b[0m                       Traceback (most recent call last)",
            "\u001b[0;32m<ipython-input-5-08d5581ca4ac>\u001b[0m in \u001b[0;36m<cell line: 8>\u001b[0;34m()\u001b[0m\n\u001b[1;32m      6\u001b[0m \u001b[0;32massert\u001b[0m \u001b[0mtf\u001b[0m\u001b[0;34m.\u001b[0m\u001b[0m__version__\u001b[0m\u001b[0;34m.\u001b[0m\u001b[0mstartswith\u001b[0m\u001b[0;34m(\u001b[0m\u001b[0;34m'2'\u001b[0m\u001b[0;34m)\u001b[0m\u001b[0;34m\u001b[0m\u001b[0;34m\u001b[0m\u001b[0m\n\u001b[1;32m      7\u001b[0m \u001b[0;34m\u001b[0m\u001b[0m\n\u001b[0;32m----> 8\u001b[0;31m \u001b[0;32mfrom\u001b[0m \u001b[0mtflite_model_maker\u001b[0m \u001b[0;32mimport\u001b[0m \u001b[0mmodel_spec\u001b[0m\u001b[0;34m\u001b[0m\u001b[0;34m\u001b[0m\u001b[0m\n\u001b[0m\u001b[1;32m      9\u001b[0m \u001b[0;32mfrom\u001b[0m \u001b[0mtflite_model_maker\u001b[0m \u001b[0;32mimport\u001b[0m \u001b[0mimage_classifier\u001b[0m\u001b[0;34m\u001b[0m\u001b[0;34m\u001b[0m\u001b[0m\n\u001b[1;32m     10\u001b[0m \u001b[0;32mfrom\u001b[0m \u001b[0mtflite_model_maker\u001b[0m\u001b[0;34m.\u001b[0m\u001b[0mconfig\u001b[0m \u001b[0;32mimport\u001b[0m \u001b[0mExportFormat\u001b[0m\u001b[0;34m\u001b[0m\u001b[0;34m\u001b[0m\u001b[0m\n",
            "\u001b[0;31mModuleNotFoundError\u001b[0m: No module named 'tflite_model_maker'",
            "",
            "\u001b[0;31m---------------------------------------------------------------------------\u001b[0;32m\nNOTE: If your import is failing due to a missing package, you can\nmanually install dependencies using either !pip or !apt.\n\nTo view examples of installing some common dependencies, click the\n\"Open Examples\" button below.\n\u001b[0;31m---------------------------------------------------------------------------\u001b[0m\n"
          ],
          "errorDetails": {
            "actions": [
              {
                "action": "open_url",
                "actionText": "Open Examples",
                "url": "/notebooks/snippets/importing_libraries.ipynb"
              }
            ]
          }
        }
      ]
    },
    {
      "cell_type": "code",
      "source": [
        "image_path = \"/content/drive/MyDrive/yolov5/data_split\""
      ],
      "metadata": {
        "id": "JB77GUCEAEEF"
      },
      "execution_count": null,
      "outputs": []
    },
    {
      "cell_type": "code",
      "source": [
        "data = DataLoader.from_folder(image_path)"
      ],
      "metadata": {
        "id": "S_2MINssAH5_"
      },
      "execution_count": null,
      "outputs": []
    },
    {
      "cell_type": "code",
      "source": [
        "model = image_classifier.create(data)\n",
        "loss, accuracy = model.evaluate()\n"
      ],
      "metadata": {
        "id": "mZCafbv-QcBB"
      },
      "execution_count": null,
      "outputs": []
    },
    {
      "cell_type": "code",
      "source": [
        "model.export(export_dir='/tmp/')\n"
      ],
      "metadata": {
        "id": "eh4EUyqVQf4k"
      },
      "execution_count": null,
      "outputs": []
    }
  ]
}